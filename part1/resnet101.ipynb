{
 "cells": [
  {
   "cell_type": "code",
   "execution_count": 1,
   "metadata": {},
   "outputs": [],
   "source": [
    "import warnings\n",
    "warnings.filterwarnings('ignore')\n",
    "import os\n",
    "import tensorflow as tf\n",
    "\n",
    "\n",
    "import pandas as pd\n",
    "import numpy as np \n",
    "import matplotlib.pyplot as plt\n",
    "from urllib.request import urlopen,urlretrieve\n",
    "\n",
    "from tensorflow.keras.models import load_model\n",
    "from sklearn.datasets import load_files   \n",
    "#from tensorflow.keras.utils import np_utils\n",
    "from glob import glob\n",
    "from tensorflow.keras import applications\n",
    "from tensorflow.keras.preprocessing.image import ImageDataGenerator \n",
    "from tensorflow.keras import optimizers\n",
    "from tensorflow.keras.models import Sequential, Model, load_model\n",
    "from tensorflow.keras.layers import Dense, Dropout, Flatten, Conv2D, MaxPool2D, GlobalAveragePooling2D\n",
    "from tensorflow.keras.callbacks import TensorBoard, ReduceLROnPlateau, ModelCheckpoint\n",
    "\n",
    "class_names = sorted(os.listdir(r\"/home/nvme/data/train/train\"))\n",
    "\n",
    "N_classes = len(class_names)"
   ]
  },
  {
   "cell_type": "code",
   "execution_count": 2,
   "metadata": {},
   "outputs": [],
   "source": [
    "base_model = tf.keras.applications.resnet.ResNet101(\n",
    "    input_shape = (224,224,3),\n",
    "    include_top = False)"
   ]
  },
  {
   "cell_type": "code",
   "execution_count": 3,
   "metadata": {},
   "outputs": [],
   "source": [
    "x = base_model.output\n",
    "x = GlobalAveragePooling2D()(x)\n",
    "x = Dropout(0.4)(x)\n",
    "outputs = Dense(N_classes, activation= 'softmax')(x)\n",
    "model = Model(inputs = base_model.input, outputs = outputs)"
   ]
  },
  {
   "cell_type": "code",
   "execution_count": 4,
   "metadata": {},
   "outputs": [],
   "source": [
    "from tensorflow.keras.optimizers import SGD, Adam\n",
    "\n",
    "adam = Adam(lr = 0.0001)\n",
    "model.compile(optimizer = adam, loss='categorical_crossentropy', metrics=['accuracy'])"
   ]
  },
  {
   "cell_type": "code",
   "execution_count": 5,
   "metadata": {},
   "outputs": [
    {
     "name": "stdout",
     "output_type": "stream",
     "text": [
      "Found 22443 images belonging to 17 classes.\n",
      "Found 5602 images belonging to 17 classes.\n"
     ]
    }
   ],
   "source": [
    "# example of progressively loading images from file\n",
    "from tensorflow.keras.preprocessing.image import ImageDataGenerator\n",
    "# create generator\n",
    "datagen = ImageDataGenerator(\n",
    "    #featurewise_center=True,\n",
    "    #featurewise_std_normalization=True,\n",
    "    rotation_range=20,\n",
    "    width_shift_range=0.2,\n",
    "    height_shift_range=0.2,\n",
    "    rescale = 1./255.,\n",
    "    horizontal_flip=True,\n",
    "    validation_split=0.2)\n",
    "\n",
    "train_gen = datagen.flow_from_directory('/home/nvme/data/train/train',\n",
    "                                        class_mode = \"categorical\",\n",
    "                                        target_size = (224, 224),\n",
    "                                        batch_size = 32,\n",
    "                                        shuffle = True,\n",
    "                                        subset = \"training\",\n",
    "                                        seed = 42)\n",
    "val_gen = datagen.flow_from_directory('/home/nvme/data/train/train',\n",
    "                                        class_mode = \"categorical\",\n",
    "                                        target_size = (224, 224),\n",
    "                                        batch_size = 32,\n",
    "                                        shuffle = True,\n",
    "                                        subset = \"validation\",\n",
    "                                        seed = 42)"
   ]
  },
  {
   "cell_type": "code",
   "execution_count": 6,
   "metadata": {},
   "outputs": [
    {
     "name": "stdout",
     "output_type": "stream",
     "text": [
      "Epoch 1/3\n",
      "701/701 [==============================] - 717s 1s/step - loss: 0.6135 - accuracy: 0.8132 - val_loss: 0.3975 - val_accuracy: 0.8723\n",
      "Epoch 2/3\n",
      "701/701 [==============================] - 712s 1s/step - loss: 0.3876 - accuracy: 0.8739 - val_loss: 0.3782 - val_accuracy: 0.8748\n",
      "Epoch 3/3\n",
      "701/701 [==============================] - 710s 1s/step - loss: 0.3280 - accuracy: 0.8939 - val_loss: 0.3669 - val_accuracy: 0.8820\n"
     ]
    },
    {
     "data": {
      "text/plain": [
       "<tensorflow.python.keras.callbacks.History at 0x7fe8502ed3d0>"
      ]
     },
     "execution_count": 6,
     "metadata": {},
     "output_type": "execute_result"
    }
   ],
   "source": [
    "import datetime\n",
    "\n",
    "#%reload_ext tensorboard\n",
    "\n",
    "#log_dir=\"logs/fit/\" + datetime.datetime.now().strftime(\"%Y%m%d-%H%M%S\")\n",
    "#tensorboard_callback = tf.keras.callbacks.TensorBoard(log_dir=log_dir, histogram_freq=1)\n",
    "\n",
    "\n",
    "epochs = 2\n",
    "# fits the model on batches with real-time data augmentation:\n",
    "model.fit_generator(train_gen,\n",
    "    steps_per_epoch = train_gen.samples // 32,\n",
    "    validation_data = val_gen, \n",
    "    validation_steps = val_gen.samples // 32,\n",
    "    epochs = epochs \n",
    "    #,callbacks=[tensorboard_callback]\n",
    "                   )\n",
    "\n",
    "#model.save('my_model.h5')  # creates a HDF5 file 'my_model.h5'\n",
    "#del model"
   ]
  },
  {
   "cell_type": "code",
   "execution_count": 7,
   "metadata": {},
   "outputs": [
    {
     "name": "stdout",
     "output_type": "stream",
     "text": [
      "Found 7958 images belonging to 1 classes.\n",
      "7958/7958 [==============================] - 789s 99ms/step\n"
     ]
    }
   ],
   "source": [
    "from tensorflow.keras.models import load_model\n",
    "\n",
    "#model = load_model('resnet101.h5')\n",
    "\n",
    "from tensorflow.keras.preprocessing.image import ImageDataGenerator\n",
    "\n",
    "datagen_test = ImageDataGenerator(rescale = 1./255.)\n",
    "\n",
    "test_gen = datagen_test.flow_from_directory('/home/nvme/data/test',\n",
    "                                        #class_mode = \"categorical\",\n",
    "                                        target_size = (224, 224),\n",
    "                                        batch_size = 1,\n",
    "                                        shuffle = False)\n",
    "\n",
    "pred = model.predict_generator(test_gen, verbose = 1)"
   ]
  },
  {
   "cell_type": "code",
   "execution_count": 8,
   "metadata": {},
   "outputs": [],
   "source": [
    "import numpy as np\n",
    "p = np.argmax(pred, axis = 1)\n",
    "predictions = [class_names[k] for k in p]\n",
    "a = np.arange(len(predictions))\n",
    "d = {'Id': a, 'Category': predictions}\n",
    "\n",
    "import pandas as pd\n",
    "df = pd.DataFrame(d)\n",
    "\n",
    "df.to_csv(\"submission.csv\", index = None, header = True)"
   ]
  },
  {
   "cell_type": "code",
   "execution_count": 10,
   "metadata": {},
   "outputs": [
    {
     "data": {
      "text/html": [
       "<div>\n",
       "<style scoped>\n",
       "    .dataframe tbody tr th:only-of-type {\n",
       "        vertical-align: middle;\n",
       "    }\n",
       "\n",
       "    .dataframe tbody tr th {\n",
       "        vertical-align: top;\n",
       "    }\n",
       "\n",
       "    .dataframe thead th {\n",
       "        text-align: right;\n",
       "    }\n",
       "</style>\n",
       "<table border=\"1\" class=\"dataframe\">\n",
       "  <thead>\n",
       "    <tr style=\"text-align: right;\">\n",
       "      <th></th>\n",
       "      <th>Id</th>\n",
       "      <th>Category</th>\n",
       "    </tr>\n",
       "  </thead>\n",
       "  <tbody>\n",
       "    <tr>\n",
       "      <th>0</th>\n",
       "      <td>0</td>\n",
       "      <td>Boat</td>\n",
       "    </tr>\n",
       "    <tr>\n",
       "      <th>1</th>\n",
       "      <td>1</td>\n",
       "      <td>Van</td>\n",
       "    </tr>\n",
       "    <tr>\n",
       "      <th>2</th>\n",
       "      <td>2</td>\n",
       "      <td>Truck</td>\n",
       "    </tr>\n",
       "    <tr>\n",
       "      <th>3</th>\n",
       "      <td>3</td>\n",
       "      <td>Van</td>\n",
       "    </tr>\n",
       "    <tr>\n",
       "      <th>4</th>\n",
       "      <td>4</td>\n",
       "      <td>Bicycle</td>\n",
       "    </tr>\n",
       "    <tr>\n",
       "      <th>5</th>\n",
       "      <td>5</td>\n",
       "      <td>Truck</td>\n",
       "    </tr>\n",
       "    <tr>\n",
       "      <th>6</th>\n",
       "      <td>6</td>\n",
       "      <td>Car</td>\n",
       "    </tr>\n",
       "    <tr>\n",
       "      <th>7</th>\n",
       "      <td>7</td>\n",
       "      <td>Boat</td>\n",
       "    </tr>\n",
       "    <tr>\n",
       "      <th>8</th>\n",
       "      <td>8</td>\n",
       "      <td>Tank</td>\n",
       "    </tr>\n",
       "    <tr>\n",
       "      <th>9</th>\n",
       "      <td>9</td>\n",
       "      <td>Car</td>\n",
       "    </tr>\n",
       "    <tr>\n",
       "      <th>10</th>\n",
       "      <td>10</td>\n",
       "      <td>Motorcycle</td>\n",
       "    </tr>\n",
       "    <tr>\n",
       "      <th>11</th>\n",
       "      <td>11</td>\n",
       "      <td>Motorcycle</td>\n",
       "    </tr>\n",
       "    <tr>\n",
       "      <th>12</th>\n",
       "      <td>12</td>\n",
       "      <td>Segway</td>\n",
       "    </tr>\n",
       "    <tr>\n",
       "      <th>13</th>\n",
       "      <td>13</td>\n",
       "      <td>Bus</td>\n",
       "    </tr>\n",
       "    <tr>\n",
       "      <th>14</th>\n",
       "      <td>14</td>\n",
       "      <td>Segway</td>\n",
       "    </tr>\n",
       "    <tr>\n",
       "      <th>15</th>\n",
       "      <td>15</td>\n",
       "      <td>Bus</td>\n",
       "    </tr>\n",
       "    <tr>\n",
       "      <th>16</th>\n",
       "      <td>16</td>\n",
       "      <td>Tank</td>\n",
       "    </tr>\n",
       "    <tr>\n",
       "      <th>17</th>\n",
       "      <td>17</td>\n",
       "      <td>Car</td>\n",
       "    </tr>\n",
       "    <tr>\n",
       "      <th>18</th>\n",
       "      <td>18</td>\n",
       "      <td>Car</td>\n",
       "    </tr>\n",
       "    <tr>\n",
       "      <th>19</th>\n",
       "      <td>19</td>\n",
       "      <td>Car</td>\n",
       "    </tr>\n",
       "  </tbody>\n",
       "</table>\n",
       "</div>"
      ],
      "text/plain": [
       "    Id    Category\n",
       "0    0        Boat\n",
       "1    1         Van\n",
       "2    2       Truck\n",
       "3    3         Van\n",
       "4    4     Bicycle\n",
       "5    5       Truck\n",
       "6    6         Car\n",
       "7    7        Boat\n",
       "8    8        Tank\n",
       "9    9         Car\n",
       "10  10  Motorcycle\n",
       "11  11  Motorcycle\n",
       "12  12      Segway\n",
       "13  13         Bus\n",
       "14  14      Segway\n",
       "15  15         Bus\n",
       "16  16        Tank\n",
       "17  17         Car\n",
       "18  18         Car\n",
       "19  19         Car"
      ]
     },
     "execution_count": 10,
     "metadata": {},
     "output_type": "execute_result"
    }
   ],
   "source": [
    "df.head(20)"
   ]
  },
  {
   "cell_type": "code",
   "execution_count": null,
   "metadata": {},
   "outputs": [],
   "source": []
  }
 ],
 "metadata": {
  "kernelspec": {
   "display_name": "Python 3",
   "language": "python",
   "name": "python3"
  },
  "language_info": {
   "codemirror_mode": {
    "name": "ipython",
    "version": 3
   },
   "file_extension": ".py",
   "mimetype": "text/x-python",
   "name": "python",
   "nbconvert_exporter": "python",
   "pygments_lexer": "ipython3",
   "version": "3.7.5"
  }
 },
 "nbformat": 4,
 "nbformat_minor": 4
}

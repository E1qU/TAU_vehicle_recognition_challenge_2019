{
 "cells": [
  {
   "cell_type": "code",
   "execution_count": 10,
   "metadata": {},
   "outputs": [],
   "source": [
    "import warnings\n",
    "warnings.filterwarnings('ignore')\n",
    "import os\n",
    "import tensorflow as tf\n",
    "class_names = sorted(os.listdir(r\"/home/nvme/data/train/train\"))"
   ]
  },
  {
   "cell_type": "code",
   "execution_count": 11,
   "metadata": {},
   "outputs": [],
   "source": [
    "base_model = tf.keras.applications.resnet.ResNet101(\n",
    "    input_shape = (224,224,3),\n",
    "    include_top = False)"
   ]
  },
  {
   "cell_type": "code",
   "execution_count": 12,
   "metadata": {},
   "outputs": [],
   "source": [
    "in_tensor = base_model.inputs[0] # Grab the input of base model\n",
    "out_tensor = base_model.outputs[0] # Grab the output of base model\n",
    "\n",
    "# Add an average pooling layer (averaging each of the 1024 channels):\n",
    "out_tensor = tf.keras.layers.GlobalAveragePooling2D()(out_tensor)\n",
    "\n",
    "# Define the full model by the endpoints.\n",
    "model = tf.keras.models.Model(inputs = [in_tensor], outputs = [out_tensor])\n",
    "\n",
    "# Compile the model for execution. Losses and optimizers\n",
    "# can be anything here, since we don’t train the model.\n",
    "model.compile(loss = \"categorical_crossentropy\", optimizer = 'sgd')"
   ]
  },
  {
   "cell_type": "code",
   "execution_count": 13,
   "metadata": {},
   "outputs": [
    {
     "name": "stderr",
     "output_type": "stream",
     "text": [
      "0it [00:00, ?it/s]\n",
      "100%|██████████| 331/331 [00:29<00:00, 11.16it/s]\n",
      "100%|██████████| 6781/6781 [10:19<00:00, 10.95it/s]  \n",
      "100%|██████████| 2033/2033 [03:19<00:00, 10.17it/s]\n",
      "100%|██████████| 153/153 [00:12<00:00, 12.69it/s]\n",
      "100%|██████████| 74/74 [00:07<00:00, 10.04it/s]\n",
      "100%|██████████| 2986/2986 [05:11<00:00,  9.59it/s]\n",
      "100%|██████████| 206/206 [00:20<00:00, 10.08it/s]\n",
      "100%|██████████| 202/202 [00:17<00:00, 11.77it/s]\n",
      "100%|██████████| 668/668 [00:59<00:00, 11.16it/s]\n",
      "100%|██████████| 1618/1618 [02:27<00:00, 10.95it/s]\n",
      "100%|██████████| 2133/2133 [03:44<00:00,  9.50it/s]\n",
      "100%|██████████| 123/123 [00:11<00:00, 10.33it/s]\n",
      "100%|██████████| 8695/8695 [12:25<00:00, 11.67it/s]  \n",
      "100%|██████████| 51/51 [00:04<00:00, 10.51it/s]\n",
      "100%|██████████| 748/748 [00:59<00:00, 12.51it/s]\n",
      "100%|██████████| 1111/1111 [01:46<00:00, 10.47it/s]\n",
      "100%|██████████| 132/132 [00:13<00:00,  9.55it/s]\n"
     ]
    }
   ],
   "source": [
    "from PIL import Image\n",
    "import numpy as np\n",
    "from tqdm import tqdm\n",
    "\n",
    "# Find all image files in the data directory.\n",
    "X = [] # Feature vectors will go here.\n",
    "y = [] # Class ids will go here.\n",
    "for root, dirs, files in os.walk(r\"/home/nvme/data/train/train\"):\n",
    "    for name in tqdm(files):\n",
    "        if name.endswith(\".jpg\"):\n",
    "            # Load the image:\n",
    "            img = Image.open(root + os.sep + name)\n",
    "                                 \n",
    "            # Resize it to the net input size:\n",
    "            img = img.resize((224,224))\n",
    "                                 \n",
    "            # Convert the data to float, and remove mean:\n",
    "            img = np.array(img)\n",
    "            img = img.astype(np.float32)\n",
    "            img -= 128\n",
    "                                 \n",
    "            # Push the data through the model:\n",
    "            x = model.predict(img[np.newaxis, ...])[0]\n",
    "                                 \n",
    "            # And append the feature vector to our list.\n",
    "            X.append(x)\n",
    "                                 \n",
    "            # Extract class name from the directory name:\n",
    "            label = root.split(os.sep)[-1]\n",
    "            y.append(class_names.index(label))\n",
    "                                 \n",
    "# Cast the python lists to a numpy array.\n",
    "X = np.array(X)\n",
    "y = np.array(y)                               "
   ]
  },
  {
   "cell_type": "code",
   "execution_count": 14,
   "metadata": {},
   "outputs": [
    {
     "data": {
      "text/plain": [
       "((28045, 2048), (28045,))"
      ]
     },
     "execution_count": 14,
     "metadata": {},
     "output_type": "execute_result"
    }
   ],
   "source": [
    "X.shape, y.shape"
   ]
  },
  {
   "cell_type": "code",
   "execution_count": 6,
   "metadata": {},
   "outputs": [
    {
     "name": "stdout",
     "output_type": "stream",
     "text": [
      "KNeighborsClassifier Accuracy : 0.85\n",
      "LinearDiscriminantAnalysis Accuracy : 0.88\n",
      "SVC Accuracy : 0.89\n",
      "LogisticRegression Accuracy : 0.86\n",
      "RandomForestClassifier Accuracy : 0.82\n"
     ]
    }
   ],
   "source": [
    "from sklearn.model_selection import train_test_split\n",
    "from sklearn.neighbors import KNeighborsClassifier\n",
    "from sklearn.discriminant_analysis import LinearDiscriminantAnalysis\n",
    "from sklearn.svm import SVC\n",
    "from sklearn.linear_model import LogisticRegression\n",
    "from sklearn.ensemble import RandomForestClassifier\n",
    "from sklearn.metrics import accuracy_score\n",
    "\n",
    "X_train, X_test, y_train, y_test = train_test_split(X, y, test_size=0.2, random_state=42)\n",
    "\n",
    "models = [KNeighborsClassifier(), LinearDiscriminantAnalysis(), SVC(), \n",
    "          LogisticRegression(), RandomForestClassifier(n_estimators = 100)]\n",
    "model_names = ['KNeighborsClassifier', 'LinearDiscriminantAnalysis', \n",
    "               'SVC', 'LogisticRegression', 'RandomForestClassifier']\n",
    "\n",
    "for i in range(len(models)):\n",
    "    m = models[i]\n",
    "    m.fit(X_train, y_train) \n",
    "\n",
    "    pred = m.predict(X_test)\n",
    "''\n",
    "    acc = accuracy_score(y_test, pred)\n",
    "    print( model_names[i], \"Accuracy :\", np.round(acc, 2))"
   ]
  },
  {
   "cell_type": "code",
   "execution_count": null,
   "metadata": {},
   "outputs": [],
   "source": [
    "svcmodel = SVC()\n",
    "svcmodel.fit(X, y)\n",
    "print(\"Model is trained\")"
   ]
  },
  {
   "cell_type": "code",
   "execution_count": 8,
   "metadata": {},
   "outputs": [
    {
     "name": "stderr",
     "output_type": "stream",
     "text": [
      "100%|██████████| 7958/7958 [00:00<00:00, 1151610.24it/s]\n"
     ]
    }
   ],
   "source": [
    "paths = []\n",
    "for root, dirs, files in os.walk(r\"/home/nvme/data/test/testset\"):\n",
    "    for i, name in enumerate(tqdm(files)):\n",
    "        if name.endswith(\".jpg\"):\n",
    "            path = str(root + os.sep + name)\n",
    "            paths.append(path)\n",
    "paths = sorted(paths)"
   ]
  },
  {
   "cell_type": "code",
   "execution_count": 9,
   "metadata": {},
   "outputs": [
    {
     "name": "stderr",
     "output_type": "stream",
     "text": [
      "  0%|          | 0/7958 [00:00<?, ?it/s]\n"
     ]
    }
   ],
   "source": [
    "with open(\"submission.csv\", \"w\") as fp:\n",
    "    fp.write(\"Id,Category\\n\")\n",
    "    for i in range(len(tqdm(paths))):\n",
    "        # Load the image:\n",
    "        img = Image.open(paths[i])\n",
    "        #print(paths[i])\n",
    "                \n",
    "        # Resize it to the net input size:\n",
    "        img = img.resize((224,224))\n",
    "                \n",
    "                # Convert the data to float, and remove mean:\n",
    "        img = np.array(img)\n",
    "        img = img.astype(np.float32)\n",
    "        img -= 128\n",
    "                                 \n",
    "        # Push the data through the model:\n",
    "        x = model.predict(img[np.newaxis, ...])[0]\n",
    "\n",
    "        pred = svcmodel.predict(x[np.newaxis, ...])\n",
    "                \n",
    "        label = class_names[pred[0]]\n",
    "        # 1. load image and resize\n",
    "        # 2. vectorize using the net\n",
    "        # 3. predict class using the sklearn model\n",
    "        # 4. convert class id to name (label = class_names[class_index])\n",
    "        fp.write(\"%d,%s\\n\" % (i, label))"
   ]
  }
 ],
 "metadata": {
  "kernelspec": {
   "display_name": "Python 3",
   "language": "python",
   "name": "python3"
  },
  "language_info": {
   "codemirror_mode": {
    "name": "ipython",
    "version": 3
   },
   "file_extension": ".py",
   "mimetype": "text/x-python",
   "name": "python",
   "nbconvert_exporter": "python",
   "pygments_lexer": "ipython3",
   "version": "3.7.5"
  }
 },
 "nbformat": 4,
 "nbformat_minor": 4
}
